{
 "cells": [
  {
   "cell_type": "code",
   "execution_count": 1,
   "metadata": {},
   "outputs": [],
   "source": [
    "import sqlite3"
   ]
  },
  {
   "cell_type": "code",
   "execution_count": null,
   "metadata": {},
   "outputs": [],
   "source": []
  },
  {
   "cell_type": "code",
   "execution_count": 2,
   "metadata": {},
   "outputs": [],
   "source": [
    "data = {\n",
    "\"15946614998\": \"https://farm8.staticflickr.com/7526/15946614998_40de0eb555_m.jpg\",\n",
    "\"15963492688\": \"https://farm9.staticflickr.com/8583/15963492688_6efb7d2eac_m.jpg\",\n",
    "\"15963619490\": \"https://farm8.staticflickr.com/7495/15963619490_c2c6303397_m.jpg\",\n",
    "\"16145115612\": \"https://farm8.staticflickr.com/7496/16145115612_436cdf4a18_m.jpg\",\n",
    "\"27327909736\": \"https://farm8.staticflickr.com/7586/27327909736_9a82662e79_m.jpg\",\n",
    "\"27327913606\": \"https://farm8.staticflickr.com/7379/27327913606_403414a365_m.jpg\",\n",
    "\"27327917086\": \"https://farm8.staticflickr.com/7532/27327917086_d7b82a3d3b_m.jpg\",\n",
    "\"27327918676\": \"https://farm8.staticflickr.com/7442/27327918676_a8250a4002_m.jpg\",\n",
    "\"27361183115\": \"https://farm8.staticflickr.com/7376/27361183115_04f8ae0826_m.jpg\",\n",
    "\"36507038065\": \"https://farm5.staticflickr.com/4347/36507038065_073fec26ff_m.jpg\",\n",
    "\"49199276847\": \"https://farm66.staticflickr.com/65535/49199276847_94e21d4e01_m.jpg\",\n",
    "\"49671999212\": \"https://farm66.staticflickr.com/65535/49671999212_1be03ab616_m.jpg\"\n",
    "}"
   ]
  },
  {
   "cell_type": "code",
   "execution_count": 3,
   "metadata": {},
   "outputs": [
    {
     "data": {
      "text/plain": [
       "dict"
      ]
     },
     "execution_count": 3,
     "metadata": {},
     "output_type": "execute_result"
    }
   ],
   "source": [
    "type(data)"
   ]
  },
  {
   "cell_type": "code",
   "execution_count": 5,
   "metadata": {},
   "outputs": [
    {
     "data": {
      "text/plain": [
       "'https://farm8.staticflickr.com/7526/15946614998_40de0eb555_m.jpg'"
      ]
     },
     "execution_count": 5,
     "metadata": {},
     "output_type": "execute_result"
    }
   ],
   "source": [
    "data['15946614998']"
   ]
  },
  {
   "cell_type": "code",
   "execution_count": 7,
   "metadata": {},
   "outputs": [],
   "source": [
    "# connect to the database\n",
    "conn = sqlite3.connect('database.sqlite')"
   ]
  },
  {
   "cell_type": "code",
   "execution_count": 8,
   "metadata": {},
   "outputs": [
    {
     "data": {
      "text/plain": [
       "<sqlite3.Cursor at 0x1c72a01cab0>"
      ]
     },
     "execution_count": 8,
     "metadata": {},
     "output_type": "execute_result"
    }
   ],
   "source": [
    "# create a cursor => handle to access the db\n",
    "cur = conn.cursor()\n",
    "\n",
    "# Create a Table if it doesn't already exist\n",
    "create_table = \"CREATE TABLE IF NOT EXISTS Images(image_id INTEGER, url TEXT)\"\n",
    "cur.execute(create_table)\n"
   ]
  },
  {
   "cell_type": "code",
   "execution_count": 10,
   "metadata": {},
   "outputs": [],
   "source": [
    "for k in data.keys():\n",
    "    attributes = (k, data[k])\n",
    "    insert_image = \"INSERT INTO Images(image_id, url) VALUES(?,?)\"\n",
    "    cur.execute(insert_image,attributes)"
   ]
  },
  {
   "cell_type": "code",
   "execution_count": 11,
   "metadata": {},
   "outputs": [
    {
     "name": "stdout",
     "output_type": "stream",
     "text": [
      "15946614998 => https://farm8.staticflickr.com/7526/15946614998_40de0eb555_m.jpg\n",
      "15963492688 => https://farm9.staticflickr.com/8583/15963492688_6efb7d2eac_m.jpg\n",
      "15963619490 => https://farm8.staticflickr.com/7495/15963619490_c2c6303397_m.jpg\n",
      "16145115612 => https://farm8.staticflickr.com/7496/16145115612_436cdf4a18_m.jpg\n",
      "27327909736 => https://farm8.staticflickr.com/7586/27327909736_9a82662e79_m.jpg\n",
      "27327913606 => https://farm8.staticflickr.com/7379/27327913606_403414a365_m.jpg\n",
      "27327917086 => https://farm8.staticflickr.com/7532/27327917086_d7b82a3d3b_m.jpg\n",
      "27327918676 => https://farm8.staticflickr.com/7442/27327918676_a8250a4002_m.jpg\n",
      "27361183115 => https://farm8.staticflickr.com/7376/27361183115_04f8ae0826_m.jpg\n",
      "36507038065 => https://farm5.staticflickr.com/4347/36507038065_073fec26ff_m.jpg\n",
      "49199276847 => https://farm66.staticflickr.com/65535/49199276847_94e21d4e01_m.jpg\n",
      "49671999212 => https://farm66.staticflickr.com/65535/49671999212_1be03ab616_m.jpg\n"
     ]
    }
   ],
   "source": [
    "# retrieve items from table\n",
    "sqlstr = 'SELECT image_id, url FROM Images'\n",
    "\n",
    "for row in cur.execute(sqlstr):\n",
    "    print(f'{row[0]} => {row[1]}')"
   ]
  },
  {
   "cell_type": "code",
   "execution_count": null,
   "metadata": {},
   "outputs": [],
   "source": []
  },
  {
   "cell_type": "code",
   "execution_count": null,
   "metadata": {},
   "outputs": [],
   "source": []
  },
  {
   "cell_type": "code",
   "execution_count": null,
   "metadata": {},
   "outputs": [],
   "source": []
  },
  {
   "cell_type": "code",
   "execution_count": 13,
   "metadata": {},
   "outputs": [
    {
     "ename": "ProgrammingError",
     "evalue": "Cannot operate on a closed database.",
     "output_type": "error",
     "traceback": [
      "\u001b[1;31m---------------------------------------------------------------------------\u001b[0m",
      "\u001b[1;31mProgrammingError\u001b[0m                          Traceback (most recent call last)",
      "\u001b[1;32m<ipython-input-13-b337fac98699>\u001b[0m in \u001b[0;36m<module>\u001b[1;34m\u001b[0m\n\u001b[1;32m----> 1\u001b[1;33m \u001b[0mconn\u001b[0m\u001b[1;33m.\u001b[0m\u001b[0mcommit\u001b[0m\u001b[1;33m(\u001b[0m\u001b[1;33m)\u001b[0m\u001b[1;33m\u001b[0m\u001b[1;33m\u001b[0m\u001b[0m\n\u001b[0m\u001b[0;32m      2\u001b[0m \u001b[0mconn\u001b[0m\u001b[1;33m.\u001b[0m\u001b[0mclose\u001b[0m\u001b[1;33m(\u001b[0m\u001b[1;33m)\u001b[0m\u001b[1;33m\u001b[0m\u001b[1;33m\u001b[0m\u001b[0m\n",
      "\u001b[1;31mProgrammingError\u001b[0m: Cannot operate on a closed database."
     ]
    }
   ],
   "source": [
    "conn.commit()\n",
    "conn.close()"
   ]
  },
  {
   "cell_type": "code",
   "execution_count": null,
   "metadata": {},
   "outputs": [],
   "source": []
  }
 ],
 "metadata": {
  "kernelspec": {
   "display_name": "Python 3",
   "language": "python",
   "name": "python3"
  },
  "language_info": {
   "codemirror_mode": {
    "name": "ipython",
    "version": 3
   },
   "file_extension": ".py",
   "mimetype": "text/x-python",
   "name": "python",
   "nbconvert_exporter": "python",
   "pygments_lexer": "ipython3",
   "version": "3.7.4"
  }
 },
 "nbformat": 4,
 "nbformat_minor": 2
}
